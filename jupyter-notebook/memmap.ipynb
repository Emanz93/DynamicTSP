{
 "cells": [
  {
   "cell_type": "code",
   "execution_count": 1,
   "metadata": {},
   "outputs": [],
   "source": [
    "import numpy as np"
   ]
  },
  {
   "cell_type": "code",
   "execution_count": 5,
   "metadata": {},
   "outputs": [],
   "source": [
    "f = np.memmap(\"../instances/fengyun.dat\", dtype=np.float32, mode='w+', shape=(1550, 1550, 1550))"
   ]
  },
  {
   "cell_type": "code",
   "execution_count": 6,
   "metadata": {},
   "outputs": [
    {
     "name": "stdout",
     "output_type": "stream",
     "text": [
      "../instances/fengyun_1.npz\n",
      "../instances/fengyun_2.npz\n",
      "../instances/fengyun_3.npz\n",
      "../instances/fengyun_4.npz\n",
      "../instances/fengyun_5.npz\n",
      "../instances/fengyun_6.npz\n",
      "../instances/fengyun_7.npz\n",
      "../instances/fengyun_8.npz\n",
      "../instances/fengyun_9.npz\n",
      "../instances/fengyun_10.npz\n",
      "../instances/fengyun_11.npz\n",
      "../instances/fengyun_12.npz\n",
      "../instances/fengyun_13.npz\n",
      "../instances/fengyun_14.npz\n",
      "../instances/fengyun_15.npz\n"
     ]
    }
   ],
   "source": [
    "iterator = 0\n",
    "for i in range(1, 16):\n",
    "    filename = \"../instances/fengyun_\" + str(i) + \".npz\"\n",
    "    loaded = np.load(filename)\n",
    "    w = loaded['w']\n",
    "    loaded.close()\n",
    "    \n",
    "    for i in range(np.shape(w)[0]):\n",
    "        f[iterator] = w[i]\n",
    "        iterator = iterator + 1\n",
    "    \n",
    "    print(filename)\n",
    "del f"
   ]
  },
  {
   "cell_type": "code",
   "execution_count": null,
   "metadata": {},
   "outputs": [],
   "source": []
  }
 ],
 "metadata": {
  "kernelspec": {
   "display_name": "Python 3",
   "language": "python",
   "name": "python3"
  },
  "language_info": {
   "codemirror_mode": {
    "name": "ipython",
    "version": 3
   },
   "file_extension": ".py",
   "mimetype": "text/x-python",
   "name": "python",
   "nbconvert_exporter": "python",
   "pygments_lexer": "ipython3",
   "version": "3.6.5"
  }
 },
 "nbformat": 4,
 "nbformat_minor": 2
}
