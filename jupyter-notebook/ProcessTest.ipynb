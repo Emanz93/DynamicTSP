{
 "cells": [
  {
   "cell_type": "code",
   "execution_count": 96,
   "metadata": {},
   "outputs": [],
   "source": [
    "import numpy as np\n",
    "from multiprocessing import Process, Lock, Value, Array, Manager\n",
    "import random"
   ]
  },
  {
   "cell_type": "code",
   "execution_count": 66,
   "metadata": {},
   "outputs": [],
   "source": [
    "def work(proc_id, q):\n",
    "    # Simple example of work.\n",
    "    while True:\n",
    "        q_lock.acquire()\n",
    "        try:\n",
    "            index = q.get()\n",
    "            print(\"Proces id={}: index={}\".format(proc_id, index))\n",
    "        finally:\n",
    "            q_lock.release()\n",
    "            \n",
    "        if index is None:\n",
    "            break\n",
    "       \n",
    "        locks[index].acquire()\n",
    "        try:\n",
    "            print(\"Proces id={}:  old: resources[{}]={}\".format(proc_id, index, resources[index]))\n",
    "            resources[index] = resources[index] + 1\n",
    "            print(\"Proces id={}:  new: resources[{}]={}\".format(proc_id, index, resources[index]))\n",
    "        finally:\n",
    "            locks[index].release()"
   ]
  },
  {
   "cell_type": "code",
   "execution_count": 69,
   "metadata": {},
   "outputs": [],
   "source": [
    "# Constants\n",
    "n_proc = 2\n",
    "n_cities = 3\n",
    "resources = Array('i',  [2,3,4])\n",
    "locks = []\n",
    "for i in range(3):\n",
    "    locks.append(Lock())"
   ]
  },
  {
   "cell_type": "code",
   "execution_count": 71,
   "metadata": {},
   "outputs": [
    {
     "name": "stdout",
     "output_type": "stream",
     "text": [
      "Proces id=0: index=0\n",
      "Proces id=0:  old: resources[0]=3\n",
      "Proces id=0:  new: resources[0]=4\n",
      "Proces id=1: index=1\n",
      "Proces id=1:  old: resources[1]=4\n",
      "Proces id=0: index=2\n",
      "Proces id=1:  new: resources[1]=5\n",
      "Proces id=0:  old: resources[2]=5\n",
      "Proces id=1: index=None\n",
      "Proces id=0:  new: resources[2]=6\n",
      "Proces id=0: index=None\n",
      "4\n",
      "5\n",
      "6\n"
     ]
    }
   ],
   "source": [
    "# Queue creation and filling.\n",
    "m = Manager()\n",
    "q = m.Queue()\n",
    "q_lock = Lock()\n",
    "\n",
    "for i in range(n_cities):\n",
    "    q.put(i)\n",
    "for i in range(n_proc):\n",
    "    q.put(None)\n",
    "    \n",
    "pool_process = []\n",
    "for i in range(n_proc):\n",
    "    p = Process(target=work, args=(i,q))\n",
    "    pool_process.append(p)\n",
    "    p.start()\n",
    "    \n",
    "for p in pool_process:\n",
    "    p.join()\n",
    "\n",
    "for e in resources:\n",
    "    print(e)"
   ]
  },
  {
   "cell_type": "code",
   "execution_count": 89,
   "metadata": {},
   "outputs": [],
   "source": [
    "loaded = np.loadtxt('../instances/SolvedTSP/att48_weight.txt', dtype=int)"
   ]
  },
  {
   "cell_type": "code",
   "execution_count": 94,
   "metadata": {},
   "outputs": [],
   "source": [
    "def init_ant_position(N_CITIES, N_ANTS):\n",
    "    \"\"\"Position randomly the ants.\"\"\"\n",
    "    solutions = []\n",
    "    for i in range(N_ANTS):\n",
    "        solutions.append([random.randint(0, N_CITIES - 1)])\n",
    "    return solutions"
   ]
  },
  {
   "cell_type": "code",
   "execution_count": 220,
   "metadata": {},
   "outputs": [],
   "source": [
    "av = set(range(10))"
   ]
  },
  {
   "cell_type": "code",
   "execution_count": 221,
   "metadata": {},
   "outputs": [],
   "source": [
    "av.remove(5)\n",
    "av.remove(3)"
   ]
  },
  {
   "cell_type": "code",
   "execution_count": 222,
   "metadata": {},
   "outputs": [
    {
     "data": {
      "text/plain": [
       "{0, 1, 2, 4, 6, 7, 8, 9}"
      ]
     },
     "execution_count": 222,
     "metadata": {},
     "output_type": "execute_result"
    }
   ],
   "source": [
    "av"
   ]
  },
  {
   "cell_type": "code",
   "execution_count": 200,
   "metadata": {},
   "outputs": [],
   "source": [
    "wei = np.full((10,10), 1)"
   ]
  },
  {
   "cell_type": "code",
   "execution_count": 201,
   "metadata": {},
   "outputs": [],
   "source": [
    "for i in range(10):\n",
    "    for j in range(10):\n",
    "        wei[i,j] = random.randint(0, 9)"
   ]
  },
  {
   "cell_type": "code",
   "execution_count": 223,
   "metadata": {},
   "outputs": [
    {
     "data": {
      "text/plain": [
       "array([[5, 2, 0, 2, 9, 9, 7, 3, 0, 0],\n",
       "       [4, 3, 2, 1, 9, 7, 2, 4, 3, 8],\n",
       "       [3, 8, 6, 1, 6, 0, 2, 9, 5, 0],\n",
       "       [3, 7, 3, 2, 4, 1, 5, 1, 2, 2],\n",
       "       [0, 1, 0, 8, 0, 1, 1, 0, 8, 8],\n",
       "       [4, 5, 8, 2, 6, 5, 9, 7, 4, 8],\n",
       "       [1, 2, 8, 1, 4, 8, 2, 1, 0, 6],\n",
       "       [6, 1, 8, 1, 2, 2, 3, 2, 0, 1],\n",
       "       [5, 7, 0, 8, 3, 4, 2, 3, 3, 7],\n",
       "       [4, 6, 8, 6, 1, 8, 4, 8, 9, 6]])"
      ]
     },
     "execution_count": 223,
     "metadata": {},
     "output_type": "execute_result"
    }
   ],
   "source": [
    "wei"
   ]
  },
  {
   "cell_type": "code",
   "execution_count": 224,
   "metadata": {},
   "outputs": [
    {
     "data": {
      "text/plain": [
       "array([4, 5, 8, 2, 6, 5, 9, 7, 4, 8])"
      ]
     },
     "execution_count": 224,
     "metadata": {},
     "output_type": "execute_result"
    }
   ],
   "source": [
    "wei[5,:]"
   ]
  },
  {
   "cell_type": "code",
   "execution_count": 225,
   "metadata": {},
   "outputs": [
    {
     "data": {
      "text/plain": [
       "(array([0, 8]),)"
      ]
     },
     "execution_count": 225,
     "metadata": {},
     "output_type": "execute_result"
    }
   ],
   "source": [
    "np.where(wei[5,:] == np.min(wei[5,list(av)]))"
   ]
  },
  {
   "cell_type": "code",
   "execution_count": null,
   "metadata": {},
   "outputs": [],
   "source": []
  },
  {
   "cell_type": "code",
   "execution_count": 231,
   "metadata": {},
   "outputs": [],
   "source": [
    "def init_pheromone_matrix(N_CITIES, weights):\n",
    "    \"\"\"Init the pheromone matrix with ne nearest neighbors algorithm.\"\"\"\n",
    "    available = set(range(N_CITIES))\n",
    "\n",
    "    solution = []\n",
    "    solution.append(random.randint(0, N_CITIES - 1))\n",
    "    available.remove(solution[-1])\n",
    "\n",
    "    for i in range(N_CITIES - 1):\n",
    "        index = solution[-1]\n",
    "        next_city = int(np.where(weights[index, :] == np.min(weights[index, list(available)]))[0])\n",
    "        solution.append(next_city)\n",
    "        available.remove(next_city)\n",
    "    return solution"
   ]
  },
  {
   "cell_type": "code",
   "execution_count": 230,
   "metadata": {},
   "outputs": [
    {
     "ename": "TypeError",
     "evalue": "only size-1 arrays can be converted to Python scalars",
     "output_type": "error",
     "traceback": [
      "\u001b[0;31m---------------------------------------------------------------------------\u001b[0m",
      "\u001b[0;31mTypeError\u001b[0m                                 Traceback (most recent call last)",
      "\u001b[0;32m<ipython-input-230-99eb7e33de97>\u001b[0m in \u001b[0;36m<module>\u001b[0;34m()\u001b[0m\n\u001b[1;32m      1\u001b[0m \u001b[0mN_CITIES\u001b[0m \u001b[0;34m=\u001b[0m \u001b[0;36m10\u001b[0m\u001b[0;34m\u001b[0m\u001b[0m\n\u001b[0;32m----> 2\u001b[0;31m \u001b[0msolution\u001b[0m \u001b[0;34m=\u001b[0m \u001b[0minit_pheromone_matrix\u001b[0m\u001b[0;34m(\u001b[0m\u001b[0mN_CITIES\u001b[0m\u001b[0;34m,\u001b[0m \u001b[0mwei\u001b[0m\u001b[0;34m)\u001b[0m\u001b[0;34m\u001b[0m\u001b[0m\n\u001b[0m",
      "\u001b[0;32m<ipython-input-229-97815b9bafc1>\u001b[0m in \u001b[0;36minit_pheromone_matrix\u001b[0;34m(N_CITIES, weights)\u001b[0m\n\u001b[1;32m      9\u001b[0m     \u001b[0;32mfor\u001b[0m \u001b[0mi\u001b[0m \u001b[0;32min\u001b[0m \u001b[0mrange\u001b[0m\u001b[0;34m(\u001b[0m\u001b[0mN_CITIES\u001b[0m \u001b[0;34m-\u001b[0m \u001b[0;36m1\u001b[0m\u001b[0;34m)\u001b[0m\u001b[0;34m:\u001b[0m\u001b[0;34m\u001b[0m\u001b[0m\n\u001b[1;32m     10\u001b[0m         \u001b[0mindex\u001b[0m \u001b[0;34m=\u001b[0m \u001b[0msolution\u001b[0m\u001b[0;34m[\u001b[0m\u001b[0;34m-\u001b[0m\u001b[0;36m1\u001b[0m\u001b[0;34m]\u001b[0m\u001b[0;34m\u001b[0m\u001b[0m\n\u001b[0;32m---> 11\u001b[0;31m         \u001b[0mnext_city\u001b[0m \u001b[0;34m=\u001b[0m \u001b[0mint\u001b[0m\u001b[0;34m(\u001b[0m\u001b[0mnp\u001b[0m\u001b[0;34m.\u001b[0m\u001b[0mwhere\u001b[0m\u001b[0;34m(\u001b[0m\u001b[0mweights\u001b[0m\u001b[0;34m[\u001b[0m\u001b[0mindex\u001b[0m\u001b[0;34m,\u001b[0m \u001b[0;34m:\u001b[0m\u001b[0;34m]\u001b[0m \u001b[0;34m==\u001b[0m \u001b[0mnp\u001b[0m\u001b[0;34m.\u001b[0m\u001b[0mmin\u001b[0m\u001b[0;34m(\u001b[0m\u001b[0mweights\u001b[0m\u001b[0;34m[\u001b[0m\u001b[0mindex\u001b[0m\u001b[0;34m,\u001b[0m \u001b[0mlist\u001b[0m\u001b[0;34m(\u001b[0m\u001b[0mavailable\u001b[0m\u001b[0;34m)\u001b[0m\u001b[0;34m]\u001b[0m\u001b[0;34m)\u001b[0m\u001b[0;34m)\u001b[0m\u001b[0;34m[\u001b[0m\u001b[0;36m0\u001b[0m\u001b[0;34m]\u001b[0m\u001b[0;34m)\u001b[0m\u001b[0;34m\u001b[0m\u001b[0m\n\u001b[0m\u001b[1;32m     12\u001b[0m         \u001b[0msolution\u001b[0m\u001b[0;34m.\u001b[0m\u001b[0mappend\u001b[0m\u001b[0;34m(\u001b[0m\u001b[0mnext_city\u001b[0m\u001b[0;34m)\u001b[0m\u001b[0;34m\u001b[0m\u001b[0m\n\u001b[1;32m     13\u001b[0m         \u001b[0mavailable\u001b[0m\u001b[0;34m.\u001b[0m\u001b[0mremove\u001b[0m\u001b[0;34m(\u001b[0m\u001b[0mnext_city\u001b[0m\u001b[0;34m)\u001b[0m\u001b[0;34m\u001b[0m\u001b[0m\n",
      "\u001b[0;31mTypeError\u001b[0m: only size-1 arrays can be converted to Python scalars"
     ]
    }
   ],
   "source": [
    "N_CITIES = 10\n",
    "solution = init_pheromone_matrix(N_CITIES, wei)"
   ]
  },
  {
   "cell_type": "code",
   "execution_count": null,
   "metadata": {},
   "outputs": [],
   "source": []
  }
 ],
 "metadata": {
  "kernelspec": {
   "display_name": "Python 3",
   "language": "python",
   "name": "python3"
  },
  "language_info": {
   "codemirror_mode": {
    "name": "ipython",
    "version": 3
   },
   "file_extension": ".py",
   "mimetype": "text/x-python",
   "name": "python",
   "nbconvert_exporter": "python",
   "pygments_lexer": "ipython3",
   "version": "3.5.3"
  }
 },
 "nbformat": 4,
 "nbformat_minor": 2
}
