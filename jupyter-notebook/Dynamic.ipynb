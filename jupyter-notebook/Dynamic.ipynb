{
 "cells": [
  {
   "cell_type": "code",
   "execution_count": 1,
   "metadata": {},
   "outputs": [],
   "source": [
    "import numpy as np\n",
    "import matplotlib.pyplot as plt\n",
    "from itertools import permutations\n",
    "import pandas as pd\n",
    "from random import random\n",
    "%matplotlib notebook"
   ]
  },
  {
   "cell_type": "code",
   "execution_count": 2,
   "metadata": {},
   "outputs": [],
   "source": [
    "def plot_diff_matrix(w, N_CITIES, i, title):\n",
    "    f1 = plt.figure(i)\n",
    "\n",
    "    diff_mtx = (w[N_CITIES-1] - w[0])\n",
    "\n",
    "    x = np.arange(0, N_CITIES, 1)\n",
    "    y = np.arange(0, N_CITIES, 1)\n",
    "    z = diff_mtx\n",
    "    plt.title(title)\n",
    "    plt.contourf(x,y,z)\n",
    "    plt.colorbar()"
   ]
  },
  {
   "cell_type": "code",
   "execution_count": 3,
   "metadata": {},
   "outputs": [],
   "source": [
    "def noise_data(w, N_CITIES):\n",
    "    w_noised = w.copy()\n",
    "    for i in range(N_CITIES):\n",
    "        for j in range(i+1, N_CITIES):\n",
    "            noise = np.random.normal(0, 8 + random(), N_CITIES)\n",
    "            w_noised[:, i, j] = w_noised[:, j, i] = w[:, i, j] + noise\n",
    "    return w_noised"
   ]
  },
  {
   "cell_type": "code",
   "execution_count": 4,
   "metadata": {},
   "outputs": [],
   "source": [
    "def compute_5_numbers_changes(w, w_noised, N_CITIES):\n",
    "    print(\"5_numbers_changes\")\n",
    "    changes = []\n",
    "    changes_noised = []\n",
    "\n",
    "    diff = []\n",
    "    diff_noised = []\n",
    "    for t in range(N_CITIES-1):\n",
    "        diff.append(abs(w[t]-w[t-1]))\n",
    "        diff_noised.append(abs(w_noised[t]-w_noised[t-1]))\n",
    "    diff = np.array(diff)\n",
    "    diff_noised = np.array(diff_noised)\n",
    "\n",
    "    for i in range(N_CITIES):\n",
    "        for j in range(i+1, N_CITIES):\n",
    "            changes.append(diff[:, i, j])        \n",
    "            changes_noised.append(diff_noised[:, i, j])   \n",
    "    changes = np.array(changes)     \n",
    "    changes_noised = np.array(changes_noised)\n",
    "    \n",
    "    # for each of the changes compute the average change.\n",
    "    average_chg = np.average(changes, axis=1)\n",
    "    pd_average_shg = pd.Series(average_chg)\n",
    "    print(\"DIFF:\")\n",
    "    print(pd_average_shg.describe())\n",
    "\n",
    "    average_chg_noised = np.average(changes_noised, axis=1)\n",
    "    pd_average_shg_noised = pd.Series(average_chg_noised)\n",
    "    print(\"\\nDIFF_noised:\")\n",
    "    print(pd_average_shg_noised.describe())"
   ]
  },
  {
   "cell_type": "code",
   "execution_count": 5,
   "metadata": {},
   "outputs": [],
   "source": [
    "def compute_5_numbers_costs(w, w_noised, N_CITIES):\n",
    "    print(\"5_numbers_costs\")\n",
    "    costs = []\n",
    "    costs_noised = []\n",
    "\n",
    "    for i in range(N_CITIES):\n",
    "        for j in range(i+1, N_CITIES):\n",
    "            costs.append(w[0, i, j])\n",
    "            costs_noised.append(w_noised[0, i, j])\n",
    "\n",
    "    costs = np.array(costs)\n",
    "    pd_cost = pd.Series(costs)\n",
    "\n",
    "    costs_noised = np.array(costs_noised)\n",
    "    pd_cost_noised = pd.Series(costs_noised)\n",
    "    \n",
    "    print(\"W:\")\n",
    "    print(pd_cost.describe())\n",
    "    print(\"\\nW_noised:\")\n",
    "    print(pd_cost_noised.describe())"
   ]
  },
  {
   "cell_type": "code",
   "execution_count": null,
   "metadata": {},
   "outputs": [],
   "source": [
    "# IRIDIUM 33\n",
    "loaded = np.load('../instances/ir33weights.npz')\n",
    "w = loaded['w']\n",
    "loaded.close()\n",
    "N_CITIES = np.shape(w)[0]"
   ]
  },
  {
   "cell_type": "code",
   "execution_count": 6,
   "metadata": {},
   "outputs": [
    {
     "data": {
      "text/plain": [
       "(533, 533, 533)"
      ]
     },
     "execution_count": 6,
     "metadata": {},
     "output_type": "execute_result"
    }
   ],
   "source": [
    "# COSMOS\n",
    "loaded = np.load('../instances/cosmosweights.npz')\n",
    "cos = loaded['w']\n",
    "loaded.close()\n",
    "COS_N_CITIES = np.shape(cos)[0]\n",
    "np.shape(cos)"
   ]
  },
  {
   "cell_type": "code",
   "execution_count": 7,
   "metadata": {},
   "outputs": [],
   "source": [
    "cos_noised = noise_data(cos, COS_N_CITIES)"
   ]
  },
  {
   "cell_type": "code",
   "execution_count": 8,
   "metadata": {},
   "outputs": [
    {
     "data": {
      "image/png": "[encoded data removed]",
      "text/plain": [
       "<Figure size 432x288 with 2 Axes>"
      ]
     },
     "metadata": {},
     "output_type": "display_data"
    }
   ],
   "source": [
    "plot_diff_matrix(cos_noised, COS_N_CITIES, 1, \"Cosmos - Weights difference graph\")"
   ]
  },
  {
   "cell_type": "code",
   "execution_count": 9,
   "metadata": {},
   "outputs": [
    {
     "ename": "TypeError",
     "evalue": "plot_diff_matrix() missing 1 required positional argument: 'title'",
     "output_type": "error",
     "traceback": [
      "\u001b[1;31m---------------------------------------------------------------------------\u001b[0m",
      "\u001b[1;31mTypeError\u001b[0m                                 Traceback (most recent call last)",
      "\u001b[1;32m<ipython-input-9-26cea575ef35>\u001b[0m in \u001b[0;36m<module>\u001b[1;34m()\u001b[0m\n\u001b[1;32m----> 1\u001b[1;33m \u001b[0mplot_diff_matrix\u001b[0m\u001b[1;33m(\u001b[0m\u001b[0mcos_noised\u001b[0m\u001b[1;33m,\u001b[0m \u001b[0mCOS_N_CITIES\u001b[0m\u001b[1;33m,\u001b[0m \u001b[1;36m2\u001b[0m\u001b[1;33m)\u001b[0m\u001b[1;33m\u001b[0m\u001b[0m\n\u001b[0m",
      "\u001b[1;31mTypeError\u001b[0m: plot_diff_matrix() missing 1 required positional argument: 'title'"
     ]
    }
   ],
   "source": [
    "plot_diff_matrix(cos_noised, COS_N_CITIES, 2)"
   ]
  },
  {
   "cell_type": "code",
   "execution_count": 10,
   "metadata": {},
   "outputs": [
    {
     "name": "stdout",
     "output_type": "stream",
     "text": [
      "5_numbers_changes\n",
      "DIFF:\n",
      "count    141778.000000\n",
      "mean          0.104406\n",
      "std           0.157136\n",
      "min           0.000015\n",
      "25%           0.018140\n",
      "50%           0.044961\n",
      "75%           0.125690\n",
      "max           2.121903\n",
      "dtype: float64\n",
      "\n",
      "DIFF_noised:\n",
      "count    141778.000000\n",
      "mean          9.632163\n",
      "std           0.503567\n",
      "min           7.821922\n",
      "25%           9.277970\n",
      "50%           9.624702\n",
      "75%           9.975529\n",
      "max          12.047872\n",
      "dtype: float64\n"
     ]
    }
   ],
   "source": [
    "compute_5_numbers_changes(cos, cos_noised, COS_N_CITIES)"
   ]
  },
  {
   "cell_type": "code",
   "execution_count": 11,
   "metadata": {},
   "outputs": [
    {
     "name": "stdout",
     "output_type": "stream",
     "text": [
      "5_numbers_costs\n",
      "W:\n",
      "count    141778.000000\n",
      "mean       9095.489258\n",
      "std        4495.425781\n",
      "min          42.124512\n",
      "25%        5267.662476\n",
      "50%        9924.316895\n",
      "75%       13351.370361\n",
      "max       15147.131836\n",
      "dtype: float64\n",
      "\n",
      "W_noised:\n",
      "count    141778.000000\n",
      "mean       9095.580078\n",
      "std        4495.422852\n",
      "min          38.293842\n",
      "25%        5266.162231\n",
      "50%        9923.942871\n",
      "75%       13352.471680\n",
      "max       15160.575195\n",
      "dtype: float64\n"
     ]
    }
   ],
   "source": [
    "compute_5_numbers_costs(cos, cos_noised, COS_N_CITIES)"
   ]
  },
  {
   "cell_type": "code",
   "execution_count": 12,
   "metadata": {},
   "outputs": [
    {
     "data": {
      "text/plain": [
       "(1000, 1000, 1000)"
      ]
     },
     "execution_count": 12,
     "metadata": {},
     "output_type": "execute_result"
    }
   ],
   "source": [
    "# FENGYUN\n",
    "loaded = np.load('../instances/fengyun_1000.npz')\n",
    "fen = loaded['w']\n",
    "loaded.close()\n",
    "FEN_N_CITIES = np.shape(fen)[0]\n",
    "np.shape(fen)"
   ]
  },
  {
   "cell_type": "code",
   "execution_count": 13,
   "metadata": {},
   "outputs": [],
   "source": [
    "fen_noised = noise_data(fen, FEN_N_CITIES)"
   ]
  },
  {
   "cell_type": "code",
   "execution_count": 14,
   "metadata": {},
   "outputs": [
    {
     "data": {
      "image/png": "[encoded data removed]",
      "text/plain": [
       "<Figure size 432x288 with 2 Axes>"
      ]
     },
     "metadata": {},
     "output_type": "display_data"
    }
   ],
   "source": [
    "plot_diff_matrix(fen_noised, FEN_N_CITIES, 1, \"Fengyun 1C - Weights difference graph\")"
   ]
  },
  {
   "cell_type": "code",
   "execution_count": 15,
   "metadata": {},
   "outputs": [
    {
     "name": "stdout",
     "output_type": "stream",
     "text": [
      "5_numbers_changes\n",
      "DIFF:\n",
      "count    499500.000000\n",
      "mean         32.566586\n",
      "std          19.586338\n",
      "min           0.132717\n",
      "25%          13.977884\n",
      "50%          33.570112\n",
      "75%          51.587344\n",
      "max          67.126862\n",
      "dtype: float64\n",
      "\n",
      "DIFF_noised:\n",
      "count    499500.000000\n",
      "mean         42.095577\n",
      "std          19.583082\n",
      "min           8.792897\n",
      "25%          23.515537\n",
      "50%          43.089989\n",
      "75%          61.106503\n",
      "max          76.426033\n",
      "dtype: float64\n"
     ]
    }
   ],
   "source": [
    "compute_5_numbers_changes(fen, fen_noised, FEN_N_CITIES)"
   ]
  },
  {
   "cell_type": "code",
   "execution_count": 16,
   "metadata": {},
   "outputs": [
    {
     "name": "stdout",
     "output_type": "stream",
     "text": [
      "5_numbers_costs\n",
      "W:\n",
      "count    499500.000000\n",
      "mean       8117.387207\n",
      "std        4883.794434\n",
      "min          32.973465\n",
      "25%        3481.259460\n",
      "50%        8367.713867\n",
      "75%       12859.049805\n",
      "max       16739.990234\n",
      "dtype: float64\n",
      "\n",
      "W_noised:\n",
      "count    499500.000000\n",
      "mean       8117.366211\n",
      "std        4883.831055\n",
      "min          25.234816\n",
      "25%        3482.056824\n",
      "50%        8367.705566\n",
      "75%       12859.283203\n",
      "max       16737.962891\n",
      "dtype: float64\n"
     ]
    }
   ],
   "source": [
    "compute_5_numbers_costs(fen, fen_noised, FEN_N_CITIES)"
   ]
  },
  {
   "cell_type": "code",
   "execution_count": null,
   "metadata": {},
   "outputs": [],
   "source": []
  }
 ],
 "metadata": {
  "kernelspec": {
   "display_name": "Python 3",
   "language": "python",
   "name": "python3"
  },
  "language_info": {
   "codemirror_mode": {
    "name": "ipython",
    "version": 3
   },
   "file_extension": ".py",
   "mimetype": "text/x-python",
   "name": "python",
   "nbconvert_exporter": "python",
   "pygments_lexer": "ipython3",
   "version": "3.6.6"
  }
 },
 "nbformat": 4,
 "nbformat_minor": 2
}
