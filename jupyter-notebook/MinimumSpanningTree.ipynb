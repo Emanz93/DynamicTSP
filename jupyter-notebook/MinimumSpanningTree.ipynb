{
 "cells": [
  {
   "cell_type": "code",
   "execution_count": 98,
   "metadata": {},
   "outputs": [],
   "source": [
    "import numpy as np\n",
    "from scipy.sparse.csgraph import minimum_spanning_tree\n",
    "from time import time"
   ]
  },
  {
   "cell_type": "code",
   "execution_count": 83,
   "metadata": {},
   "outputs": [],
   "source": [
    "loaded = np.load('../instances/iridium_weights_matricies.npz')\n",
    "weights = loaded['w']\n",
    "loaded.close()\n",
    "N_CITIES = np.shape(weights)[1]"
   ]
  },
  {
   "cell_type": "code",
   "execution_count": 84,
   "metadata": {},
   "outputs": [],
   "source": [
    "def compute_minimum_one_tree(weights):\n",
    "    # get the mst collision matrix without the 0 element. \n",
    "    N_CITIES = np.shape(weights)[1]\n",
    "    one = 0 # index of the 1 vertex (here 0).\n",
    "    t = 0\n",
    "    w_t = weights[t, 1:, 1:].copy()\n",
    "    mst = minimum_spanning_tree(w_t) # Compute the MST over the graph without vertex 1.\n",
    "    mst_graph = np.array(mst.toarray().astype(float)) # get the collision matrix\n",
    "    np.shape(mst_graph)\n",
    "    one_tree = np.insert(mst_graph, 0, np.zeros(N_CITIES - 1), axis=0) # insert the first row.\n",
    "    one_tree = np.insert(one_tree, 0, np.zeros(N_CITIES), axis=1) # insert the first column.\n",
    "    \n",
    "    # respect the simmetry of the collision matrix. \n",
    "    for i in range(1, N_CITIES):\n",
    "        for j in range(i + 1, N_CITIES):\n",
    "            if one_tree[i,j] != 0:\n",
    "                one_tree[j,i] = one_tree[i,j]\n",
    "    # Find the two closest cities to vertex 0, belonging to T.\n",
    "    closest_cities = np.argpartition(weights[t, 0, 1:], 2)\n",
    "    closest_city1 = closest_cities[0]\n",
    "    closest_city2 = closest_cities[1]\n",
    "    # add the two links.\n",
    "    one_tree[0, closest_city1] = weights[t, 0, closest_city1]\n",
    "    one_tree[closest_city1, 0] = one_tree[0, closest_city1]\n",
    "    one_tree[0, closest_city2] = weights[t, 0, closest_city2]\n",
    "    one_tree[closest_city2, 0] = one_tree[0, closest_city2]\n",
    "    return one_tree"
   ]
  },
  {
   "cell_type": "code",
   "execution_count": 85,
   "metadata": {},
   "outputs": [],
   "source": [
    "def max_in_loop(c, one_tree_cm):\n",
    "    \"\"\"Find the loop, isolate it and return the value of the indices of the maximum weight inside the loop.\"\"\"\n",
    "    N_CITIES = np.shape(one_tree_cm)[0] # get the number of cities.\n",
    "    collision_matrix = one_tree_cm.copy() # use a copy of the tree due to later modifications.\n",
    "    \n",
    "    #Create the list of all verticies.\n",
    "    v = list(range(N_CITIES))\n",
    "    # create the list of degree value for each vertex.\n",
    "    degree_list = np.count_nonzero(collision_matrix, axis=1).tolist()\n",
    "    \n",
    "    try:\n",
    "        while True: # Search for the cycle in collision_matrix. \n",
    "            c_i = degree_list.index(1) # get the index of degree == 1\n",
    "            c_j = np.nonzero(collision_matrix[c_i])[0][0] # get its j value.\n",
    "            \n",
    "            # degrease the degree for the removed edges.\n",
    "            degree_list[c_i] = 0\n",
    "            degree_list[c_j] -= 1\n",
    "            \n",
    "            # update the collision matrix removing the edge.\n",
    "            collision_matrix[c_i, c_j] = collision_matrix[c_j, c_i] = 0 \n",
    "    except ValueError:\n",
    "        pass\n",
    "    \n",
    "    # get the cycle indicies\n",
    "    cycle = np.nonzero(degree_list)[0]\n",
    "    \n",
    "    if c in cycle: # test if the node belongs to the cycle.\n",
    "        return np.unravel_index(np.argmax(collision_matrix), collision_matrix.shape)\n",
    "    else: # else return None.\n",
    "        return None"
   ]
  },
  {
   "cell_type": "code",
   "execution_count": 86,
   "metadata": {},
   "outputs": [],
   "source": [
    "def compute_alpha_len(c1, c2, one_tree, weights):\n",
    "    \"\"\"Compute the value of the alpha length for the arc (c1, c2). \"\"\"\n",
    "    ot = one_tree.copy() # save a copy of one_tree.\n",
    "    t = 0 # start from t = 0\n",
    "    alpha_len = float('Inf') # initialize the alpha_len to infinite\n",
    "    \n",
    "    # case 1\n",
    "    if one_tree[c1, c2] != 0:\n",
    "        return 0\n",
    "    elif c1 == 0 or c2 == 0:\n",
    "        # take the largest of the two arcs incidents to node 0\n",
    "        x = np.argmax(one_tree[0])\n",
    "        # replace it with (c1, c2).\n",
    "        one_tree[0, x] = one_tree[x, 0] = weights[t, c1, c2]\n",
    "    else:\n",
    "        one_tree[c1, c2] = one_tree[c2, c1] = weights[t, c1, c2] # add the link (c1,c2).\n",
    "        max_arc_idx = max_in_loop(c1, one_tree)\n",
    "        one_tree[idx[0], idx[1]] = one_tree[idx[1], idx[0]] = 0 # remove the heavier link in the loop.\n",
    "    return np.sum(one_tree) / 2.0\n",
    "        "
   ]
  },
  {
   "cell_type": "code",
   "execution_count": 87,
   "metadata": {},
   "outputs": [],
   "source": [
    "def alpha_nearness(c1, c2, weights):\n",
    "    # MAIN (it will be the alpha_nearness)\n",
    "    # def alpha_nearness(c1, c2, weights)\n",
    "    # compute the one minimum tree for the graph.\n",
    "    one_tree = compute_minimum_one_tree(weights)\n",
    "    l = np.sum(one_tree) / 2.0\n",
    "\n",
    "    # compute the alpha distance:\n",
    "    # (c1, c2) is the new arc.\n",
    "    c1 = 1\n",
    "    c2 = 2\n",
    "    alpha_len = compute_alpha_len(c1, c2, one_tree, weights)\n",
    "\n",
    "    # compute the alpha_nearness:\n",
    "    return abs(alpha_len - l)"
   ]
  },
  {
   "cell_type": "code",
   "execution_count": null,
   "metadata": {},
   "outputs": [],
   "source": [
    "        "
   ]
  },
  {
   "cell_type": "code",
   "execution_count": 78,
   "metadata": {},
   "outputs": [],
   "source": []
  },
  {
   "cell_type": "code",
   "execution_count": 88,
   "metadata": {},
   "outputs": [
    {
     "name": "stdout",
     "output_type": "stream",
     "text": [
      "ret_val=(0, 1)\n"
     ]
    }
   ],
   "source": [
    "coll = np.zeros((5,5))\n",
    "coll[0, 1] = 6.2\n",
    "coll[1, 0] = 6.2\n",
    "coll[0, 2] = 3.1\n",
    "coll[2, 0] = 3.1\n",
    "coll[1, 2] = 4.5\n",
    "coll[2, 1] = 4.5\n",
    "coll[3, 0] = 4.7\n",
    "coll[0, 3] = 4.7\n",
    "coll[3, 4] = 8.9\n",
    "coll[4, 3] = 8.9\n",
    "\n",
    "ret_val = max_in_loop(2, coll)\n",
    "print(\"ret_val={}\".format(ret_val))"
   ]
  },
  {
   "cell_type": "code",
   "execution_count": 89,
   "metadata": {},
   "outputs": [
    {
     "name": "stdout",
     "output_type": "stream",
     "text": [
      "i=0 : valid\n",
      "i=1 : valid\n",
      "i=2 : valid\n",
      "i=3 : valid\n",
      "i=4 : valid\n",
      "i=5 : valid\n"
     ]
    }
   ],
   "source": [
    "coll = np.zeros((6,6))\n",
    "coll[0, 2] = 9.8\n",
    "coll[2, 0] = 9.8\n",
    "coll[1, 2] = 3.1\n",
    "coll[2, 1] = 3.1\n",
    "coll[1, 3] = 4.8\n",
    "coll[3, 1] = 4.8\n",
    "coll[1, 5] = 7.1\n",
    "coll[5, 1] = 7.1\n",
    "coll[3, 5] = 6.3\n",
    "coll[5, 3] = 6.3\n",
    "coll[3, 4] = 5.4\n",
    "coll[4, 3] = 5.4\n",
    "\n",
    "res = [None, (1,5), None, (1,5), None, (1,5)]\n",
    "for i in range(6):\n",
    "    ret_val = max_in_loop(i, coll)\n",
    "    if ret_val == res[i]:\n",
    "        print(\"i={} : valid\".format(i))\n",
    "    else:\n",
    "        print(\"i={} : INvalid\".format(i))"
   ]
  },
  {
   "cell_type": "code",
   "execution_count": 95,
   "metadata": {},
   "outputs": [
    {
     "name": "stdout",
     "output_type": "stream",
     "text": [
      "8.0108642578125e-05\n",
      "6.222724914550781e-05\n"
     ]
    }
   ],
   "source": [
    "arr = np.array([-1,5,7,-8,-1,5,7,-8,-1,5,7,-8,-1,5,7,-8,-1,5,7,-8,-1,5,7,-8,-1,5,7,-8,-1,5,7,-8])\n",
    "t1 = time()\n",
    "abs(arr)\n",
    "t2 = time()\n",
    "print(t2 - t1)\n",
    "t1 = time()\n",
    "np.abs(arr)\n",
    "t2 = time()\n",
    "print(t2 - t1)"
   ]
  },
  {
   "cell_type": "code",
   "execution_count": 99,
   "metadata": {},
   "outputs": [
    {
     "data": {
      "text/plain": [
       "array([ 5,  7, -8, -1,  5,  7, -8, -1,  5,  7, -8, -1,  5,  7, -8, -1,  5,\n",
       "        7, -8, -1,  5,  7, -8, -1,  5,  7, -8, -1,  5,  7, -8])"
      ]
     },
     "execution_count": 99,
     "metadata": {},
     "output_type": "execute_result"
    }
   ],
   "source": [
    "arr[1:]"
   ]
  },
  {
   "cell_type": "code",
   "execution_count": null,
   "metadata": {},
   "outputs": [],
   "source": []
  },
  {
   "cell_type": "code",
   "execution_count": null,
   "metadata": {},
   "outputs": [],
   "source": []
  },
  {
   "cell_type": "code",
   "execution_count": null,
   "metadata": {},
   "outputs": [],
   "source": []
  }
 ],
 "metadata": {
  "kernelspec": {
   "display_name": "Python 3",
   "language": "python",
   "name": "python3"
  },
  "language_info": {
   "codemirror_mode": {
    "name": "ipython",
    "version": 3
   },
   "file_extension": ".py",
   "mimetype": "text/x-python",
   "name": "python",
   "nbconvert_exporter": "python",
   "pygments_lexer": "ipython3",
   "version": "3.5.3"
  }
 },
 "nbformat": 4,
 "nbformat_minor": 2
}
