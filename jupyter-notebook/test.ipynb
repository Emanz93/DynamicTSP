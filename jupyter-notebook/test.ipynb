{
 "cells": [
  {
   "cell_type": "code",
   "execution_count": 1,
   "metadata": {},
   "outputs": [],
   "source": [
    "import numpy as np\n",
    "from math import log\n",
    "from time import time\n",
    "from random import sample"
   ]
  },
  {
   "cell_type": "code",
   "execution_count": 17,
   "metadata": {},
   "outputs": [],
   "source": [
    "loaded = np.load(\"../instances/iridium_weights_matricies.npz\")\n",
    "wei = loaded['w']\n",
    "loaded.close()"
   ]
  },
  {
   "cell_type": "code",
   "execution_count": 112,
   "metadata": {},
   "outputs": [],
   "source": [
    "def find_moved_cities(individual, weights):\n",
    "    N_CITIES = 6\n",
    "    for t in range(N_CITIES):\n",
    "        # compute the difference matrix between t and t + 1\n",
    "        diff_matrix = abs(weights[:, :] - weights[ :, :])\n",
    "        # compute the mask matrix. boolean matrix in which the cells are true if they're above the comp.\n",
    "        mask = diff_matrix > COMPARIS_MATRIX\n",
    "        (x, y) = np.nonzero(mask)\n",
    "    \n",
    "    "
   ]
  },
  {
   "cell_type": "code",
   "execution_count": 136,
   "metadata": {},
   "outputs": [],
   "source": [
    "def find_closest_cities(w, individual, c):\n",
    "    \"\"\"\"Return the two nearest cities.\"\"\"\n",
    "    t = individual.index(c)\n",
    "    min_c = float('Inf')\n",
    "    min_idx = -1\n",
    "    \n",
    "    for idx in range(len(individual)):\n",
    "        cost = w[individual[idx % len(individual)]] + w[individual[(idx + 1) % len(individual)]]\n",
    "        if cost < min_c:\n",
    "            min_c = cost\n",
    "            min_idx = idx\n",
    "    return min_idx"
   ]
  },
  {
   "cell_type": "code",
   "execution_count": 138,
   "metadata": {},
   "outputs": [
    {
     "data": {
      "text/plain": [
       "0"
      ]
     },
     "execution_count": 138,
     "metadata": {},
     "output_type": "execute_result"
    }
   ],
   "source": [
    "w = [9,4,8,4,5]\n",
    "find_closest_cities(w, [3,4,1,0], 3)"
   ]
  },
  {
   "cell_type": "code",
   "execution_count": 139,
   "metadata": {},
   "outputs": [
    {
     "name": "stdout",
     "output_type": "stream",
     "text": [
      "[12 12]\n"
     ]
    }
   ],
   "source": [
    "a = np.array([12,12])\n",
    "print(a)"
   ]
  },
  {
   "cell_type": "code",
   "execution_count": 140,
   "metadata": {},
   "outputs": [],
   "source": [
    "a = [12,13]\n",
    "a.insert(0,111)"
   ]
  },
  {
   "cell_type": "code",
   "execution_count": 141,
   "metadata": {},
   "outputs": [
    {
     "data": {
      "text/plain": [
       "[111, 12, 13]"
      ]
     },
     "execution_count": 141,
     "metadata": {},
     "output_type": "execute_result"
    }
   ],
   "source": [
    "a"
   ]
  },
  {
   "cell_type": "code",
   "execution_count": 26,
   "metadata": {},
   "outputs": [
    {
     "name": "stdout",
     "output_type": "stream",
     "text": [
      "sum=-351730131 in 0.015625715255737305\n",
      "new_sum=-351730131 in 0.0\n"
     ]
    }
   ],
   "source": [
    "N_CITIES = 5000000\n",
    "a = np.array(sample(range(N_CITIES), N_CITIES))\n",
    "b = np.array(sample(range(N_CITIES), N_CITIES))\n",
    "\n",
    "t1 = time()\n",
    "summa = np.sum(a*b)\n",
    "t2 = time()\n",
    "\n",
    "t3 = time()\n",
    "new_summa = np.dot(a,b)\n",
    "t4 = time()\n",
    "\n",
    "print(\"sum={} in {}\".format(summa, t2-t1))\n",
    "print(\"new_sum={} in {}\".format(new_summa, t4-t3))"
   ]
  },
  {
   "cell_type": "code",
   "execution_count": 4,
   "metadata": {},
   "outputs": [
    {
     "data": {
      "text/plain": [
       "array([4, 5, 6])"
      ]
     },
     "execution_count": 4,
     "metadata": {},
     "output_type": "execute_result"
    }
   ],
   "source": [
    "s = {1,2,3,4,5,6,7,8,9,10}\n",
    "i = np.array([3,4,5])\n",
    "a = np.array(list(s))\n",
    "a[i]"
   ]
  },
  {
   "cell_type": "code",
   "execution_count": 3,
   "metadata": {},
   "outputs": [
    {
     "data": {
      "text/plain": [
       "[1, 555, 4]"
      ]
     },
     "execution_count": 3,
     "metadata": {},
     "output_type": "execute_result"
    }
   ],
   "source": [
    "a = [1,2,4]\n",
    "a.pop(1)\n",
    "a.insert(1, 555)\n",
    "a"
   ]
  },
  {
   "cell_type": "code",
   "execution_count": null,
   "metadata": {},
   "outputs": [],
   "source": []
  }
 ],
 "metadata": {
  "kernelspec": {
   "display_name": "Python 3",
   "language": "python",
   "name": "python3"
  },
  "language_info": {
   "codemirror_mode": {
    "name": "ipython",
    "version": 2
   },
   "file_extension": ".py",
   "mimetype": "text/x-python",
   "name": "python",
   "nbconvert_exporter": "python",
   "pygments_lexer": "ipython2",
   "version": "2.7.13"
  }
 },
 "nbformat": 4,
 "nbformat_minor": 2
}
