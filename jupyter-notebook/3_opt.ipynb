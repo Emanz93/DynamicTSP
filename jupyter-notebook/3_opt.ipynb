{
 "cells": [
  {
   "cell_type": "code",
   "execution_count": 10,
   "metadata": {},
   "outputs": [],
   "source": [
    "import numpy as np\n",
    "from random import sample\n",
    "from copy import copy\n",
    "from numba import jit\n",
    "from time import time"
   ]
  },
  {
   "cell_type": "code",
   "execution_count": 16,
   "metadata": {},
   "outputs": [],
   "source": [
    "def reverse_path(arr, start, stop, N_CITIES):\n",
    "    \"\"\"Revert the a sequence of cities from start to end.\"\"\"\n",
    "    if start < stop:\n",
    "        while start < stop:\n",
    "            tmp = arr[start]\n",
    "            arr[start] = arr[stop]\n",
    "            arr[stop] = tmp\n",
    "            start = ((start + 1) % N_CITIES)\n",
    "            stop = ((stop - 1) % N_CITIES)\n",
    "    else:\n",
    "        while True:\n",
    "            tmp = arr[start]\n",
    "            arr[start] = arr[stop]\n",
    "            arr[stop] = tmp\n",
    "            if start == stop or ((start + 1) % N_CITIES) == stop:\n",
    "                break\n",
    "            start = ((start + 1) % N_CITIES)\n",
    "            stop = ((stop - 1) % N_CITIES)\n",
    "        "
   ]
  },
  {
   "cell_type": "code",
   "execution_count": 14,
   "metadata": {},
   "outputs": [],
   "source": [
    "def static_objfun(s, w, length):\n",
    "    \"\"\"Static calculation of the objective function. It doesn't use the time feature.\n",
    "        s : list of cities.\n",
    "        w : weight matrix.\n",
    "        t : (optional) time of computing. Default 0.\n",
    "    \"\"\"\n",
    "    cost = 0\n",
    "    i = 0\n",
    "    while i < length:\n",
    "        cost = cost + w[s[i], s[(i + 1) % length]]\n",
    "        i = i + 1\n",
    "    return cost"
   ]
  },
  {
   "cell_type": "code",
   "execution_count": 4,
   "metadata": {},
   "outputs": [],
   "source": [
    "loaded = np.load('../instances/iridium_weights_matricies.npz')\n",
    "w = loaded['w']\n",
    "loaded.close()"
   ]
  },
  {
   "cell_type": "code",
   "execution_count": 5,
   "metadata": {},
   "outputs": [],
   "source": [
    "w = w[0]\n",
    "N_CITIES = np.shape(w)[0]"
   ]
  },
  {
   "cell_type": "code",
   "execution_count": 7,
   "metadata": {},
   "outputs": [
    {
     "data": {
      "text/plain": [
       "1167713.2929807876"
      ]
     },
     "execution_count": 7,
     "metadata": {},
     "output_type": "execute_result"
    }
   ],
   "source": [
    "sol = sample(range(N_CITIES), N_CITIES)\n",
    "static_objfun(sol, w, N_CITIES)"
   ]
  },
  {
   "cell_type": "code",
   "execution_count": 12,
   "metadata": {},
   "outputs": [],
   "source": [
    "def opt_3(sol, weights, N_CITIES, is_static=True):\n",
    "    \"\"\"Perform the 3-opt local search.\n",
    "\n",
    "    Parameters:\n",
    "        sol : initial solution. (list)\n",
    "        weights : weight matrix.\n",
    "        N_CITIES : length of the list.\n",
    "        is_static : True if the fitness si static. False otherwise.\n",
    "\n",
    "    Returns:\n",
    "        cost : cost of the best local solution\n",
    "        local_sol : best local solution\n",
    "    \"\"\"\n",
    "    # get 6 random indices and take them sorted.\n",
    "    indices = sample(range(N_CITIES), 6)\n",
    "    indices.sort()\n",
    "    [i, j, k, l, m, n] = indices\n",
    "\n",
    "    opts = []\n",
    "    opts_costs = []\n",
    "\n",
    "    # opt1\n",
    "    opts.append(copy(sol))\n",
    "    reverse_path(opts[0], j, k, N_CITIES)  # swap(j, k)\n",
    "\n",
    "    # opt2\n",
    "    opts.append(copy(sol))\n",
    "    reverse_path(opts[1], l, m, N_CITIES)  # swap(m, l)\n",
    "\n",
    "    # opt3\n",
    "    opts.append(copy(sol))\n",
    "    reverse_path(opts[2], n, i, N_CITIES)  # swap(n, i)\n",
    "\n",
    "    # opt4\n",
    "    opts.append(copy(opts[0]))  # swap(j, k)\n",
    "    reverse_path(opts[3], m, l, N_CITIES)  # swap(m, l)\n",
    "\n",
    "    # opt5\n",
    "    opts.append(copy(opts[1]))  # swap(m, l)\n",
    "    reverse_path(opts[4], n, i, N_CITIES)  # swap(n, i)\n",
    "\n",
    "    # opt6\n",
    "    opts.append(copy(opts[2]))  # swap(n, i)\n",
    "    reverse_path(opts[5], j, k, N_CITIES)  # swap(j, k)\n",
    "\n",
    "    # opt7\n",
    "    opts.append(copy(opts[0]))  # swap(j, k)\n",
    "    reverse_path(opts[6], m, l, N_CITIES)  # swap(m, l)\n",
    "    reverse_path(opts[6], n, i, N_CITIES)  # swap(n, i)\n",
    "\n",
    "    for i in range(7):\n",
    "        if is_static:\n",
    "            opts_costs.append(static_objfun(opts[i], weights, N_CITIES))\n",
    "        else:\n",
    "            opts_costs.append(dynamic_objfun(opts[i], weights, N_CITIES))\n",
    "\n",
    "    idx = np.argmin(opts_costs)\n",
    "\n",
    "    return opts_costs[idx], opts[idx]"
   ]
  },
  {
   "cell_type": "code",
   "execution_count": 11,
   "metadata": {},
   "outputs": [
    {
     "name": "stdout",
     "output_type": "stream",
     "text": [
      "Normal opt_3: min=0.0005009174346923828, max=0.0015037059783935547, avg=0.0009525299072265625\n"
     ]
    }
   ],
   "source": [
    "t = []\n",
    "for i in range(10):\n",
    "    t1 = time()\n",
    "    opt_3(sol, w, N_CITIES, is_static=True)\n",
    "    t2 = time()\n",
    "    t.append(t2-t1)\n",
    "print(\"Normal opt_3: min={}, max={}, avg={}\".format(min(t), max(t), sum(t)/len(t)))"
   ]
  },
  {
   "cell_type": "code",
   "execution_count": 13,
   "metadata": {},
   "outputs": [
    {
     "name": "stdout",
     "output_type": "stream",
     "text": [
      "Normal opt_3: min=0.0, max=1.2390673160552979, avg=0.1244662046432495\n"
     ]
    }
   ],
   "source": [
    "t = []\n",
    "for i in range(10):\n",
    "    t1 = time()\n",
    "    opt_3(sol, w, N_CITIES, is_static=True)\n",
    "    t2 = time()\n",
    "    t.append(t2-t1)\n",
    "print(\"Normal opt_3: min={}, max={}, avg={}\".format(min(t), max(t), sum(t)/len(t)))"
   ]
  },
  {
   "cell_type": "code",
   "execution_count": 15,
   "metadata": {},
   "outputs": [
    {
     "name": "stdout",
     "output_type": "stream",
     "text": [
      "Normal opt_3: min=0.0, max=0.1304488182067871, avg=0.013245463371276855\n"
     ]
    }
   ],
   "source": [
    "t = []\n",
    "for i in range(10):\n",
    "    t1 = time()\n",
    "    opt_3(sol, w, N_CITIES, is_static=True)\n",
    "    t2 = time()\n",
    "    t.append(t2-t1)\n",
    "print(\"Normal opt_3: min={}, max={}, avg={}\".format(min(t), max(t), sum(t)/len(t)))"
   ]
  },
  {
   "cell_type": "code",
   "execution_count": 17,
   "metadata": {},
   "outputs": [
    {
     "name": "stdout",
     "output_type": "stream",
     "text": [
      "Normal opt_3: min=0.0, max=0.1743466854095459, avg=0.017835664749145507\n"
     ]
    }
   ],
   "source": [
    "t = []\n",
    "for i in range(10):\n",
    "    t1 = time()\n",
    "    opt_3(sol, w, N_CITIES, is_static=True)\n",
    "    t2 = time()\n",
    "    t.append(t2-t1)\n",
    "print(\"Normal opt_3: min={}, max={}, avg={}\".format(min(t), max(t), sum(t)/len(t)))"
   ]
  },
  {
   "cell_type": "code",
   "execution_count": null,
   "metadata": {},
   "outputs": [],
   "source": []
  }
 ],
 "metadata": {
  "kernelspec": {
   "display_name": "Python 3",
   "language": "python",
   "name": "python3"
  },
  "language_info": {
   "codemirror_mode": {
    "name": "ipython",
    "version": 3
   },
   "file_extension": ".py",
   "mimetype": "text/x-python",
   "name": "python",
   "nbconvert_exporter": "python",
   "pygments_lexer": "ipython3",
   "version": "3.6.5"
  }
 },
 "nbformat": 4,
 "nbformat_minor": 2
}
