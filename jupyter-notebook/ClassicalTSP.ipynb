{
 "cells": [
  {
   "cell_type": "code",
   "execution_count": 2,
   "metadata": {},
   "outputs": [],
   "source": [
    "import numpy as np\n",
    "from math import sqrt, pow\n",
    "from TSPutil import nearest_neighbor, classic_objfun"
   ]
  },
  {
   "cell_type": "code",
   "execution_count": 2,
   "metadata": {},
   "outputs": [],
   "source": [
    "def att_distance(x1, y1, x2, y2):\n",
    "    return int(sqrt((pow(x1-x2,2)+pow(y1-y2,2))/10))"
   ]
  },
  {
   "cell_type": "code",
   "execution_count": 3,
   "metadata": {},
   "outputs": [],
   "source": [
    "def ec_distance(x1, y1, x2, y2):\n",
    "    # (int) (sqrt (t1 * t1 + t2 * t2) + 0.5)\n",
    "    t1 = x1 - x2\n",
    "    t2 = y1 - y2\n",
    "    return int(sqrt(t1*t1 + t2*t2) + 0.5)"
   ]
  },
  {
   "cell_type": "code",
   "execution_count": 3,
   "metadata": {},
   "outputs": [],
   "source": [
    "att = np.loadtxt(\"att48.txt\", dtype=int, delimiter=\" \", skiprows=6)\n",
    "weight_att = np.zeros((len(att), len(att)))\n",
    "\n",
    "for i in range(len(att)):\n",
    "    for j in range(i+1, len(att)):\n",
    "        weight_att[i, j] = int(att_distance(att[i,1], att[j,1], att[i,2], att[j,2]))\n",
    "        weight_att[j, i] = weight_att[i, j]\n",
    "np.savetxt(\"att48_weight.txt\", weight_att, fmt='%d')"
   ]
  },
  {
   "cell_type": "code",
   "execution_count": 11,
   "metadata": {},
   "outputs": [],
   "source": []
  },
  {
   "cell_type": "code",
   "execution_count": 14,
   "metadata": {},
   "outputs": [
    {
     "name": "stdout",
     "output_type": "stream",
     "text": [
      "opt_cost=629.0\n",
      "nn_cost=848.0\n"
     ]
    }
   ],
   "source": [
    "eil = np.loadtxt(\"eil101.txt\", dtype=int, delimiter=\" \", skiprows=6)\n",
    "weight_eil = np.zeros((len(eil),len(eil)))\n",
    "for i in range(len(eil)):\n",
    "    for j in range(i+1, len(eil)):\n",
    "        weight_eil[i, j] = ec_distance(eil[i,1], eil[i,2], eil[j,1], eil[j,2])\n",
    "        weight_eil[j, i] = weight_eil[i, j]\n",
    "np.savetxt(\"eil101_weight.txt\", weight_eil, fmt='%d')\n",
    "opt_sol = np.loadtxt(\"eil101_opt.txt\", dtype=int, skiprows=5)\n",
    "opt_sol = opt_sol - 1\n",
    "opt_cost = classic_objfun(opt_sol, weight_eil)\n",
    "print(\"opt_cost={}\".format(opt_cost))\n",
    "nn_solution = nearest_neighbor(weight_eil)\n",
    "nn_cost = classic_objfun(nn_solution, weight_eil)\n",
    "print(\"nn_cost={}\".format(nn_cost))"
   ]
  },
  {
   "cell_type": "code",
   "execution_count": null,
   "metadata": {},
   "outputs": [],
   "source": []
  },
  {
   "cell_type": "code",
   "execution_count": 15,
   "metadata": {},
   "outputs": [
    {
     "name": "stdout",
     "output_type": "stream",
     "text": [
      "opt_cost=538.0\n",
      "nn_cost=697.0\n"
     ]
    }
   ],
   "source": [
    "eil76 = np.loadtxt(\"eil76.txt\", dtype=int, delimiter=\" \", skiprows=6)\n",
    "weight_eil76 = np.zeros((len(eil76), len(eil76)))\n",
    "for i in range(len(eil76)):\n",
    "    for j in range(i+1, len(eil76)):\n",
    "        weight_eil76[i, j] = ec_distance(eil76[i,1], eil76[i,2], eil76[j,1], eil76[j,2])\n",
    "        weight_eil76[j, i] = weight_eil76[i, j]\n",
    "np.savetxt(\"eil76_weight.txt\", weight_eil76, fmt='%d')\n",
    "opt_sol = np.loadtxt(\"eil76_opt.txt\", dtype=int, skiprows=5)\n",
    "opt_sol = opt_sol - 1\n",
    "opt_cost = classic_objfun(opt_sol, weight_eil76)\n",
    "print(\"opt_cost={}\".format(opt_cost))\n",
    "nn_solution = nearest_neighbor(weight_eil76)\n",
    "nn_cost = classic_objfun(nn_solution, weight_eil76)\n",
    "print(\"nn_cost={}\".format(nn_cost))"
   ]
  },
  {
   "cell_type": "code",
   "execution_count": null,
   "metadata": {},
   "outputs": [],
   "source": []
  },
  {
   "cell_type": "code",
   "execution_count": 16,
   "metadata": {},
   "outputs": [
    {
     "name": "stdout",
     "output_type": "stream",
     "text": [
      "opt_cost=2550.0\n",
      "nn_cost=3146.0\n"
     ]
    }
   ],
   "source": [
    "a280 = np.loadtxt(\"a280.txt\", dtype=int, delimiter=\" \", skiprows=6)\n",
    "weight_a280 = np.zeros((len(a280), len(a280)))\n",
    "for i in range(len(a280)):\n",
    "    for j in range(i+1, len(a280)):\n",
    "        weight_a280[i, j] = ec_distance(a280[i,1], a280[i,2], a280[j,1], a280[j,2])\n",
    "        weight_a280[j, i] = weight_a280[i, j]\n",
    "np.savetxt(\"a280_weight.txt\", weight_a280, fmt='%d')\n",
    "opt_sol = np.loadtxt(\"a280_opt.txt\", dtype=int, skiprows=5)\n",
    "opt_sol = opt_sol - 1\n",
    "opt_cost = classic_objfun(opt_sol, weight_a280)\n",
    "print(\"opt_cost={}\".format(opt_cost))\n",
    "nn_solution = nearest_neighbor(weight_a280)\n",
    "nn_cost = classic_objfun(nn_solution, weight_a280)\n",
    "print(\"nn_cost={}\".format(nn_cost))"
   ]
  }
 ],
 "metadata": {
  "kernelspec": {
   "display_name": "Python 3",
   "language": "python",
   "name": "python3"
  },
  "language_info": {
   "codemirror_mode": {
    "name": "ipython",
    "version": 3
   },
   "file_extension": ".py",
   "mimetype": "text/x-python",
   "name": "python",
   "nbconvert_exporter": "python",
   "pygments_lexer": "ipython3",
   "version": "3.6.5"
  }
 },
 "nbformat": 4,
 "nbformat_minor": 2
}
