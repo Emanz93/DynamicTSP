{
 "cells": [
  {
   "cell_type": "code",
   "execution_count": 1,
   "metadata": {},
   "outputs": [],
   "source": [
    "import numpy as np"
   ]
  },
  {
   "cell_type": "code",
   "execution_count": 3,
   "metadata": {},
   "outputs": [
    {
     "name": "stdout",
     "output_type": "stream",
     "text": [
      "../instances/fengyun_1.npz\n",
      "../instances/fengyun_2.npz\n",
      "../instances/fengyun_3.npz\n",
      "../instances/fengyun_4.npz\n",
      "../instances/fengyun_5.npz\n",
      "../instances/fengyun_6.npz\n",
      "../instances/fengyun_7.npz\n",
      "../instances/fengyun_8.npz\n",
      "../instances/fengyun_9.npz\n",
      "../instances/fengyun_10.npz\n"
     ]
    }
   ],
   "source": [
    "iterator = 0\n",
    "DIM = 1000\n",
    "new_w = np.zeros((DIM, DIM, DIM), dtype=np.float32)\n",
    "\n",
    "for i in range(1, 11):\n",
    "    filename = \"../instances/fengyun_\" + str(i) + \".npz\"\n",
    "    loaded = np.load(filename)\n",
    "    w = loaded['w']\n",
    "    loaded.close()\n",
    "    print(filename)\n",
    "    for t in range(np.shape(w)[0]):\n",
    "        for i in range(DIM):\n",
    "            for j in range(i+1,DIM):\n",
    "                new_w[iterator, i, j] = new_w[iterator, j, i] = w[t, i, j]\n",
    "        iterator = iterator + 1\n",
    "    \n",
    "np.savez_compressed(\"../instances/fengyun_1000.npz\", w=new_w)"
   ]
  },
  {
   "cell_type": "code",
   "execution_count": null,
   "metadata": {},
   "outputs": [],
   "source": []
  }
 ],
 "metadata": {
  "kernelspec": {
   "display_name": "Python 3",
   "language": "python",
   "name": "python3"
  },
  "language_info": {
   "codemirror_mode": {
    "name": "ipython",
    "version": 3
   },
   "file_extension": ".py",
   "mimetype": "text/x-python",
   "name": "python",
   "nbconvert_exporter": "python",
   "pygments_lexer": "ipython3",
   "version": "3.6.5"
  }
 },
 "nbformat": 4,
 "nbformat_minor": 2
}
