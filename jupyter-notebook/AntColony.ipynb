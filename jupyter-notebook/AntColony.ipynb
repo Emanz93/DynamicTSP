{
 "cells": [
  {
   "cell_type": "code",
   "execution_count": 38,
   "metadata": {},
   "outputs": [],
   "source": [
    "import numpy as np\n",
    "from random import random, choice\n",
    "from time import time"
   ]
  },
  {
   "cell_type": "code",
   "execution_count": 39,
   "metadata": {},
   "outputs": [],
   "source": [
    "pheromone_matrix = np.array([[5, 2, 0, 2, 9, 9, 7, 3, 0, 0],\n",
    "       [4, 3, 2, 1, 9, 7, 2, 4, 3, 8],\n",
    "       [3, 8, 6, 1, 6, 0, 2, 9, 5, 0],\n",
    "       [3, 7, 3, 2, 4, 1, 5, 1, 2, 2],\n",
    "       [0, 1, 0, 8, 0, 1, 1, 0, 8, 8],\n",
    "       [4, 5, 8, 2, 6, 5, 9, 7, 4, 8],\n",
    "       [1, 2, 8, 1, 4, 8, 2, 1, 0, 6],\n",
    "       [6, 1, 8, 1, 2, 2, 3, 2, 0, 1],\n",
    "       [5, 7, 0, 8, 3, 4, 2, 3, 3, 7],\n",
    "       [4, 6, 8, 6, 1, 8, 4, 8, 9, 6]])\n",
    "\n",
    "weights = np.array([[5, 2, 0, 2, 9, 9, 7, 3, 0, 0],\n",
    "       [4, 3, 2, 1, 9, 7, 2, 4, 3, 8],\n",
    "       [3, 8, 6, 1, 6, 0, 2, 9, 5, 0],\n",
    "       [3, 7, 3, 2, 4, 1, 5, 1, 2, 2],\n",
    "       [0, 1, 0, 8, 0, 1, 1, 0, 8, 8],\n",
    "       [4, 5, 8, 2, 6, 5, 9, 7, 4, 8],\n",
    "       [1, 2, 8, 1, 4, 8, 2, 1, 0, 6],\n",
    "       [6, 1, 8, 1, 2, 2, 3, 2, 0, 1],\n",
    "       [5, 7, 0, 8, 3, 4, 2, 3, 3, 7],\n",
    "       [4, 6, 8, 6, 1, 8, 4, 8, 9, 6]])\n",
    "\n",
    "BETA = 2"
   ]
  },
  {
   "cell_type": "code",
   "execution_count": 40,
   "metadata": {},
   "outputs": [],
   "source": [
    "def random_proportional_rule(r, available):\n",
    "    \"\"\"For each available city returns the best city according to the random probability rule.\"\"\"\n",
    "    summa = np.sum(pheromone_matrix[r, list(\n",
    "    available)] * np.power((1 / weights[r, list(available)]), BETA))\n",
    "\n",
    "    p_best = -1\n",
    "    next_city = None\n",
    "    for s in available:\n",
    "        if summa == 0:\n",
    "            p = 0\n",
    "        else:\n",
    "            p = (pheromone_matrix[r, s] * pow((1 / weights[r, s]), BETA)) / summa\n",
    "        if p > p_best:\n",
    "            p_best = p\n",
    "            next_city = s\n",
    "        elif p == p_best:\n",
    "            if random() > 0.5:\n",
    "                p_best = p\n",
    "                next_city = s\n",
    "    return next_city"
   ]
  },
  {
   "cell_type": "code",
   "execution_count": 41,
   "metadata": {},
   "outputs": [],
   "source": [
    "def random_proportional_rule2(r, available):\n",
    "    \"\"\"For each available city returns the best city according to the random probability rule.\"\"\"\n",
    "    available = list(available)\n",
    "    summa = np.sum(pheromone_matrix[r, available] * np.power((1 / weights[r, available]), BETA))\n",
    "    #print(\"summa={}\".format(summa))\n",
    "\n",
    "    #p_best = -1\n",
    "    #next_city = None\n",
    "    \n",
    "    if summa == 0:\n",
    "        return choice(available)\n",
    "    else:\n",
    "        p = (pheromone_matrix[r, available] * np.power((1 / weights[r, available]), BETA)) / summa\n",
    "        return available[np.argmax(p)]\n",
    "    \n",
    "    #\n",
    "    #for s in available:\n",
    "    #    if summa == 0:\n",
    "    #        p = 0\n",
    "    #    else:\n",
    "    #        p = (pheromone_matrix[r, s] * pow((1 / weights[r, s]), BETA)) / summa\n",
    "    #    if p > p_best:\n",
    "    #        p_best = p\n",
    "    #        next_city = s\n",
    "    #    elif p == p_best:\n",
    "    #        if random() > 0.5:\n",
    "    #            p_best = p\n",
    "    #            next_city = s\n",
    "    #return next_city"
   ]
  },
  {
   "cell_type": "code",
   "execution_count": 42,
   "metadata": {},
   "outputs": [
    {
     "name": "stdout",
     "output_type": "stream",
     "text": [
      "city1=3, city2=3\n",
      "rule1=0.00033855438232421875, rile2=0.0002548694610595703\n"
     ]
    }
   ],
   "source": [
    "r = 5\n",
    "available = {1, 4, 7, 9, 3, 2, 6}\n",
    "t1 = time()\n",
    "city1 = random_proportional_rule(r, available)\n",
    "t2 = time()\n",
    "\n",
    "t3 = time()\n",
    "city2 = random_proportional_rule2(r, available)\n",
    "t4 = time()\n",
    "\n",
    "print(\"city1={}, city2={}\".format(city1, city2))\n",
    "print(\"rule1={}, rile2={}\".format(t2-t1, t4-t3))"
   ]
  },
  {
   "cell_type": "code",
   "execution_count": 30,
   "metadata": {},
   "outputs": [
    {
     "data": {
      "text/plain": [
       "array([0.04      , 0.025     , 0.1       , 0.03333333, 0.02222222,\n",
       "       0.02857143, 0.025     ])"
      ]
     },
     "execution_count": 30,
     "metadata": {},
     "output_type": "execute_result"
    }
   ],
   "source": [
    "available = list(available)\n",
    "(pheromone_matrix[r, available] * np.power((1 / weights[r, available]), BETA)) / 5"
   ]
  },
  {
   "cell_type": "code",
   "execution_count": 33,
   "metadata": {},
   "outputs": [
    {
     "data": {
      "text/plain": [
       "9"
      ]
     },
     "execution_count": 33,
     "metadata": {},
     "output_type": "execute_result"
    }
   ],
   "source": [
    "choice(available)"
   ]
  },
  {
   "cell_type": "code",
   "execution_count": 44,
   "metadata": {},
   "outputs": [],
   "source": [
    "def pseudo_random_proportional_rule(r, available):\n",
    "    \"\"\"For each available city returns the best city according to the pseudo random probability rule.\"\"\"\n",
    "    next_city = None\n",
    "    p_best = -1\n",
    "    for u in available:\n",
    "        p = pheromone_matrix[r, u] * pow((1 / weights[r, u]), BETA)\n",
    "        if p > p_best:\n",
    "            p_best = p\n",
    "            next_city = u\n",
    "        elif p == p_best:\n",
    "            if random() > 0.5:\n",
    "                p_best = p\n",
    "                next_city = u\n",
    "    return next_city"
   ]
  },
  {
   "cell_type": "code",
   "execution_count": 45,
   "metadata": {},
   "outputs": [],
   "source": [
    "def pseudo_random_proportional_rule2(r, available):\n",
    "    \"\"\"For each available city returns the best city according to the pseudo random probability rule.\"\"\"\n",
    "    available = list(available)\n",
    "    \n",
    "    p = pheromone_matrix[r, available] * np.power((1 / weights[r, available]), BETA)\n",
    "    return available[np.argmax(p)]"
   ]
  },
  {
   "cell_type": "code",
   "execution_count": 46,
   "metadata": {},
   "outputs": [
    {
     "name": "stdout",
     "output_type": "stream",
     "text": [
      "city1=3, city2=3\n",
      "rule1=0.0002827644348144531, rile2=0.00037479400634765625\n"
     ]
    }
   ],
   "source": [
    "r = 5\n",
    "available = {1, 4, 7, 9, 3, 2, 6}\n",
    "t1 = time()\n",
    "city1 = pseudo_random_proportional_rule(r, available)\n",
    "t2 = time()\n",
    "\n",
    "t3 = time()\n",
    "city2 = pseudo_random_proportional_rule2(r, available)\n",
    "t4 = time()\n",
    "\n",
    "print(\"city1={}, city2={}\".format(city1, city2))\n",
    "print(\"rule1={}, rile2={}\".format(t2-t1, t4-t3))"
   ]
  },
  {
   "cell_type": "code",
   "execution_count": null,
   "metadata": {},
   "outputs": [],
   "source": []
  }
 ],
 "metadata": {
  "kernelspec": {
   "display_name": "Python 3",
   "language": "python",
   "name": "python3"
  },
  "language_info": {
   "codemirror_mode": {
    "name": "ipython",
    "version": 3
   },
   "file_extension": ".py",
   "mimetype": "text/x-python",
   "name": "python",
   "nbconvert_exporter": "python",
   "pygments_lexer": "ipython3",
   "version": "3.6.5"
  }
 },
 "nbformat": 4,
 "nbformat_minor": 2
}
